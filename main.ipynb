{
 "cells": [
  {
   "cell_type": "code",
   "execution_count": 19,
   "metadata": {},
   "outputs": [
    {
     "ename": "NameError",
     "evalue": "name 'nama' is not defined",
     "output_type": "error",
     "traceback": [
      "\u001b[1;31m---------------------------------------------------------------------------\u001b[0m",
      "\u001b[1;31mNameError\u001b[0m                                 Traceback (most recent call last)",
      "\u001b[1;32mc:\\Users\\Soimah\\OneDrive\\Documents\\AUDIT INFORMASI\\main.ipynb Cell 1\u001b[0m line \u001b[0;36m4\n\u001b[0;32m     <a href='vscode-notebook-cell:/c%3A/Users/Soimah/OneDrive/Documents/AUDIT%20INFORMASI/main.ipynb#W0sZmlsZQ%3D%3D?line=38'>39</a>\u001b[0m             \u001b[39mprint\u001b[39m(nama)\n\u001b[0;32m     <a href='vscode-notebook-cell:/c%3A/Users/Soimah/OneDrive/Documents/AUDIT%20INFORMASI/main.ipynb#W0sZmlsZQ%3D%3D?line=40'>41</a>\u001b[0m \u001b[39m# Call the function\u001b[39;00m\n\u001b[1;32m---> <a href='vscode-notebook-cell:/c%3A/Users/Soimah/OneDrive/Documents/AUDIT%20INFORMASI/main.ipynb#W0sZmlsZQ%3D%3D?line=41'>42</a>\u001b[0m find_matching(nama)\n",
      "\u001b[1;31mNameError\u001b[0m: name 'nama' is not defined"
     ]
    }
   ],
   "source": [
    "import csv\n",
    "\n",
    "def find_matching(nama):\n",
    "    gaji_filename = 'gaji.csv'\n",
    "    nominatif_filename = 'nominatif.csv'\n",
    "\n",
    "    gaji_nama = set()\n",
    "    nominatif_nama = set()\n",
    "  \n",
    "    matching_nama = set()\n",
    "    unmatched_nama = set()\n",
    "\n",
    "    with open(gaji_filename, 'r') as gaji_file:\n",
    "        gaji_reader = csv.reader(gaji_file)\n",
    "        next(gaji_reader)  # Skip header row\n",
    "        for row in gaji_reader:\n",
    "            nama = row[1]\n",
    "            gaji_nama.add(nama)\n",
    "\n",
    "    with open(nominatif_filename, 'r') as nominatif_file:\n",
    "        nominatif_reader = csv.reader(nominatif_file)\n",
    "        next(nominatif_reader)  # Skip header row\n",
    "        for row in nominatif_reader:\n",
    "            nama = row[2]\n",
    "            nominatif_nama.add(nama)\n",
    "\n",
    "    matching_nama = gaji_nama.intersection(nominatif_nama)\n",
    "    unmatched_nama = gaji_nama.symmetric_difference(nominatif_nama)\n",
    "   \n",
    "    print(\"Daftar Pegawai yang ada di Daftar Gaji dan ada di Nominatif:\")\n",
    "    for nama in matching_nama:\n",
    "        print(nama)\n",
    "\n",
    "    print(\"\\nDaftar Pegawai yang ada di Daftar Gaji tetapi tidak ada di Nominatif:\")\n",
    "    if len(unmatched_nama) == 0:\n",
    "        print(\"Tidak ada data\")\n",
    "    else:\n",
    "        for nama in unmatched_nama:\n",
    "            print(nama)\n",
    "\n",
    "# Call the function\n",
    "find_matching(nama)"
   ]
  }
 ],
 "metadata": {
  "kernelspec": {
   "display_name": "Python 3",
   "language": "python",
   "name": "python3"
  },
  "language_info": {
   "codemirror_mode": {
    "name": "ipython",
    "version": 3
   },
   "file_extension": ".py",
   "mimetype": "text/x-python",
   "name": "python",
   "nbconvert_exporter": "python",
   "pygments_lexer": "ipython3",
   "version": "3.12.0"
  }
 },
 "nbformat": 4,
 "nbformat_minor": 2
}
